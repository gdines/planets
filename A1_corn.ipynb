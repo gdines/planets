{
 "cells": [
  {
   "cell_type": "markdown",
   "metadata": {},
   "source": [
    "## Assignment 1\n",
    "\n",
    "##### Brian Tang | ATM 413/543 | Feb. 10, 2022"
   ]
  },
  {
   "cell_type": "code",
   "execution_count": 2,
   "metadata": {},
   "outputs": [],
   "source": [
    "%matplotlib inline\n",
    "\n",
    "import numpy as np\n",
    "import pandas as pd\n",
    "import matplotlib\n",
    "import matplotlib.pyplot as plt\n",
    "import seaborn as sns\n",
    "\n",
    "sns.set()\n",
    "sns.set_context(\"talk\")"
   ]
  },
  {
   "cell_type": "markdown",
   "metadata": {},
   "source": [
    "Data"
   ]
  },
  {
   "cell_type": "code",
   "execution_count": 3,
   "metadata": {},
   "outputs": [
    {
     "data": {
      "text/html": [
       "<div>\n",
       "<style scoped>\n",
       "    .dataframe tbody tr th:only-of-type {\n",
       "        vertical-align: middle;\n",
       "    }\n",
       "\n",
       "    .dataframe tbody tr th {\n",
       "        vertical-align: top;\n",
       "    }\n",
       "\n",
       "    .dataframe thead th {\n",
       "        text-align: right;\n",
       "    }\n",
       "</style>\n",
       "<table border=\"1\" class=\"dataframe\">\n",
       "  <thead>\n",
       "    <tr style=\"text-align: right;\">\n",
       "      <th></th>\n",
       "      <th>year</th>\n",
       "      <th>quantity</th>\n",
       "      <th>price</th>\n",
       "      <th>pdsi</th>\n",
       "    </tr>\n",
       "  </thead>\n",
       "  <tbody>\n",
       "    <tr>\n",
       "      <th>0</th>\n",
       "      <td>2012</td>\n",
       "      <td>1.880000e+09</td>\n",
       "      <td>6.92</td>\n",
       "      <td>-3.06</td>\n",
       "    </tr>\n",
       "    <tr>\n",
       "      <th>1</th>\n",
       "      <td>2013</td>\n",
       "      <td>2.140000e+09</td>\n",
       "      <td>4.49</td>\n",
       "      <td>0.31</td>\n",
       "    </tr>\n",
       "    <tr>\n",
       "      <th>2</th>\n",
       "      <td>2014</td>\n",
       "      <td>2.370000e+09</td>\n",
       "      <td>3.71</td>\n",
       "      <td>2.28</td>\n",
       "    </tr>\n",
       "    <tr>\n",
       "      <th>3</th>\n",
       "      <td>2015</td>\n",
       "      <td>2.510000e+09</td>\n",
       "      <td>3.52</td>\n",
       "      <td>2.90</td>\n",
       "    </tr>\n",
       "    <tr>\n",
       "      <th>4</th>\n",
       "      <td>2016</td>\n",
       "      <td>2.740000e+09</td>\n",
       "      <td>3.30</td>\n",
       "      <td>3.94</td>\n",
       "    </tr>\n",
       "    <tr>\n",
       "      <th>5</th>\n",
       "      <td>2017</td>\n",
       "      <td>2.610000e+09</td>\n",
       "      <td>3.31</td>\n",
       "      <td>2.41</td>\n",
       "    </tr>\n",
       "    <tr>\n",
       "      <th>6</th>\n",
       "      <td>2018</td>\n",
       "      <td>2.500000e+09</td>\n",
       "      <td>3.59</td>\n",
       "      <td>2.40</td>\n",
       "    </tr>\n",
       "    <tr>\n",
       "      <th>7</th>\n",
       "      <td>2019</td>\n",
       "      <td>2.580000e+09</td>\n",
       "      <td>3.50</td>\n",
       "      <td>5.04</td>\n",
       "    </tr>\n",
       "    <tr>\n",
       "      <th>8</th>\n",
       "      <td>2020</td>\n",
       "      <td>2.280000e+09</td>\n",
       "      <td>4.64</td>\n",
       "      <td>-0.62</td>\n",
       "    </tr>\n",
       "    <tr>\n",
       "      <th>9</th>\n",
       "      <td>2021</td>\n",
       "      <td>2.550000e+09</td>\n",
       "      <td>5.47</td>\n",
       "      <td>-1.21</td>\n",
       "    </tr>\n",
       "  </tbody>\n",
       "</table>\n",
       "</div>"
      ],
      "text/plain": [
       "   year      quantity  price  pdsi\n",
       "0  2012  1.880000e+09   6.92 -3.06\n",
       "1  2013  2.140000e+09   4.49  0.31\n",
       "2  2014  2.370000e+09   3.71  2.28\n",
       "3  2015  2.510000e+09   3.52  2.90\n",
       "4  2016  2.740000e+09   3.30  3.94\n",
       "5  2017  2.610000e+09   3.31  2.41\n",
       "6  2018  2.500000e+09   3.59  2.40\n",
       "7  2019  2.580000e+09   3.50  5.04\n",
       "8  2020  2.280000e+09   4.64 -0.62\n",
       "9  2021  2.550000e+09   5.47 -1.21"
      ]
     },
     "execution_count": 3,
     "metadata": {},
     "output_type": "execute_result"
    }
   ],
   "source": [
    "year = np.arange(2012,2022)\n",
    "\n",
    "quantity = np.array([1.88E9, 2.14E9, 2.37E9, 2.51E9, 2.74E9, 2.61E9, 2.50E9, 2.58E9, 2.28E9, 2.55E9])\n",
    "\n",
    "price = np.array([6.92, 4.49, 3.71, 3.52, 3.30, 3.31, 3.59, 3.50, 4.64, 5.47])\n",
    "\n",
    "pdsi = np.array([-3.06, 0.31, 2.28, 2.90, 3.94, 2.41, 2.40, 5.04, -0.62, -1.21])\n",
    "\n",
    "#construct a Pandas dataframe\n",
    "df = pd.DataFrame({'year':year, 'quantity':quantity, 'price':price, 'pdsi':pdsi})\n",
    "df.head(n=10)"
   ]
  },
  {
   "cell_type": "markdown",
   "metadata": {},
   "source": [
    "1) Compute gross product for each year (2 pts)"
   ]
  },
  {
   "cell_type": "code",
   "execution_count": 4,
   "metadata": {},
   "outputs": [
    {
     "data": {
      "text/html": [
       "<div>\n",
       "<style scoped>\n",
       "    .dataframe tbody tr th:only-of-type {\n",
       "        vertical-align: middle;\n",
       "    }\n",
       "\n",
       "    .dataframe tbody tr th {\n",
       "        vertical-align: top;\n",
       "    }\n",
       "\n",
       "    .dataframe thead th {\n",
       "        text-align: right;\n",
       "    }\n",
       "</style>\n",
       "<table border=\"1\" class=\"dataframe\">\n",
       "  <thead>\n",
       "    <tr style=\"text-align: right;\">\n",
       "      <th></th>\n",
       "      <th>year</th>\n",
       "      <th>quantity</th>\n",
       "      <th>price</th>\n",
       "      <th>pdsi</th>\n",
       "      <th>grossproduct</th>\n",
       "    </tr>\n",
       "  </thead>\n",
       "  <tbody>\n",
       "    <tr>\n",
       "      <th>0</th>\n",
       "      <td>2012</td>\n",
       "      <td>1.880000e+09</td>\n",
       "      <td>6.92</td>\n",
       "      <td>-3.06</td>\n",
       "      <td>6.504800e+09</td>\n",
       "    </tr>\n",
       "    <tr>\n",
       "      <th>1</th>\n",
       "      <td>2013</td>\n",
       "      <td>2.140000e+09</td>\n",
       "      <td>4.49</td>\n",
       "      <td>0.31</td>\n",
       "      <td>4.804300e+09</td>\n",
       "    </tr>\n",
       "    <tr>\n",
       "      <th>2</th>\n",
       "      <td>2014</td>\n",
       "      <td>2.370000e+09</td>\n",
       "      <td>3.71</td>\n",
       "      <td>2.28</td>\n",
       "      <td>4.396350e+09</td>\n",
       "    </tr>\n",
       "    <tr>\n",
       "      <th>3</th>\n",
       "      <td>2015</td>\n",
       "      <td>2.510000e+09</td>\n",
       "      <td>3.52</td>\n",
       "      <td>2.90</td>\n",
       "      <td>4.417600e+09</td>\n",
       "    </tr>\n",
       "    <tr>\n",
       "      <th>4</th>\n",
       "      <td>2016</td>\n",
       "      <td>2.740000e+09</td>\n",
       "      <td>3.30</td>\n",
       "      <td>3.94</td>\n",
       "      <td>4.521000e+09</td>\n",
       "    </tr>\n",
       "    <tr>\n",
       "      <th>5</th>\n",
       "      <td>2017</td>\n",
       "      <td>2.610000e+09</td>\n",
       "      <td>3.31</td>\n",
       "      <td>2.41</td>\n",
       "      <td>4.319550e+09</td>\n",
       "    </tr>\n",
       "    <tr>\n",
       "      <th>6</th>\n",
       "      <td>2018</td>\n",
       "      <td>2.500000e+09</td>\n",
       "      <td>3.59</td>\n",
       "      <td>2.40</td>\n",
       "      <td>4.487500e+09</td>\n",
       "    </tr>\n",
       "    <tr>\n",
       "      <th>7</th>\n",
       "      <td>2019</td>\n",
       "      <td>2.580000e+09</td>\n",
       "      <td>3.50</td>\n",
       "      <td>5.04</td>\n",
       "      <td>4.515000e+09</td>\n",
       "    </tr>\n",
       "    <tr>\n",
       "      <th>8</th>\n",
       "      <td>2020</td>\n",
       "      <td>2.280000e+09</td>\n",
       "      <td>4.64</td>\n",
       "      <td>-0.62</td>\n",
       "      <td>5.289600e+09</td>\n",
       "    </tr>\n",
       "    <tr>\n",
       "      <th>9</th>\n",
       "      <td>2021</td>\n",
       "      <td>2.550000e+09</td>\n",
       "      <td>5.47</td>\n",
       "      <td>-1.21</td>\n",
       "      <td>6.974250e+09</td>\n",
       "    </tr>\n",
       "  </tbody>\n",
       "</table>\n",
       "</div>"
      ],
      "text/plain": [
       "   year      quantity  price  pdsi  grossproduct\n",
       "0  2012  1.880000e+09   6.92 -3.06  6.504800e+09\n",
       "1  2013  2.140000e+09   4.49  0.31  4.804300e+09\n",
       "2  2014  2.370000e+09   3.71  2.28  4.396350e+09\n",
       "3  2015  2.510000e+09   3.52  2.90  4.417600e+09\n",
       "4  2016  2.740000e+09   3.30  3.94  4.521000e+09\n",
       "5  2017  2.610000e+09   3.31  2.41  4.319550e+09\n",
       "6  2018  2.500000e+09   3.59  2.40  4.487500e+09\n",
       "7  2019  2.580000e+09   3.50  5.04  4.515000e+09\n",
       "8  2020  2.280000e+09   4.64 -0.62  5.289600e+09\n",
       "9  2021  2.550000e+09   5.47 -1.21  6.974250e+09"
      ]
     },
     "execution_count": 4,
     "metadata": {},
     "output_type": "execute_result"
    }
   ],
   "source": [
    "df['grossproduct'] = 0.5*df['quantity']*df['price']\n",
    "df.head(n=10)"
   ]
  },
  {
   "cell_type": "markdown",
   "metadata": {},
   "source": [
    "2) Construct scatter plot of quantity versus price (equilibrium values) (2 pts)"
   ]
  },
  {
   "cell_type": "code",
   "execution_count": 5,
   "metadata": {},
   "outputs": [
    {
     "data": {
      "image/png": "[encoded data removed]",
      "text/plain": [
       "<Figure size 720x576 with 1 Axes>"
      ]
     },
     "metadata": {},
     "output_type": "display_data"
    }
   ],
   "source": [
    "plt.figure(figsize=(10,8))\n",
    "plt.scatter(df['quantity'],df['price'],s=100)\n",
    "plt.xlabel('Quantity (bu)')\n",
    "plt.ylabel('Price ($/bu)')\n",
    "plt.show()"
   ]
  },
  {
   "cell_type": "markdown",
   "metadata": {},
   "source": [
    "3) Illustrate how eq. quantity and price may be affected by changes in supply curve due to more and less favorable growing conditions (2 pts)"
   ]
  },
  {
   "cell_type": "markdown",
   "metadata": {},
   "source": [
    "The easiest way to illustrate is to choose two points, say the upper-leftmost point the lower-rightmost point. A supply curve from the origin to the upper-leftmost point would represent less favorable conditions (a steeper slope relative to \"normal\" conditions). A supply curve from the origin to the lower-rightmost point would represent more favorable conditions (a more shallow slope relative to \"normal\" conditions).\n",
    "\n",
    "There are other ways a student could potentially show this relationship, but they have to explain/justify how they show it."
   ]
  },
  {
   "cell_type": "markdown",
   "metadata": {},
   "source": [
    "4) Estimate loss in gross product due to this derecho (2 pts)\n",
    "\n",
    "First, they have to estimate a hypothetical price if the derecho did not hit. There isn't one correct way to arrive at an estimate. For example, they could use 2016 as an analog, which had a very similar quantity, and use the 2016 price (3.30/bu). They could use the PDSI information to do something similar. Or they could do something more sophisticated like a linear regression. Whatever they choose, it has to be reasonable and explained."
   ]
  },
  {
   "cell_type": "code",
   "execution_count": 6,
   "metadata": {},
   "outputs": [
    {
     "name": "stdout",
     "output_type": "stream",
     "text": [
      "Estimated change: [-7.521e+08]\n"
     ]
    }
   ],
   "source": [
    "#gross product loss is hypothetical gross product (no derecho) minus actual gross product\n",
    "hypothetical_quantity = 2.75E9\n",
    "hypothetical_price = 3.30 #using simple analog method\n",
    "loss = (0.5 * hypothetical_quantity * hypothetical_price) - df.loc[df['year']==2020,'grossproduct']\n",
    "print('Estimated change: '+str(loss.values))"
   ]
  },
  {
   "cell_type": "markdown",
   "metadata": {},
   "source": [
    "5) Assess how wet and dry conditions affect equilibrium quantity and price (2 pts)"
   ]
  },
  {
   "cell_type": "code",
   "execution_count": 7,
   "metadata": {},
   "outputs": [
    {
     "data": {
      "image/png": "[encoded data removed]",
      "text/plain": [
       "<Figure size 720x576 with 1 Axes>"
      ]
     },
     "metadata": {},
     "output_type": "display_data"
    }
   ],
   "source": [
    "plt.figure(figsize=(10,8))\n",
    "#color points by pdsi\n",
    "plt.scatter(df.loc[df['pdsi']>=2,'quantity'],df.loc[df['pdsi']>=2,'price'],color='green')\n",
    "plt.scatter(df.loc[df['pdsi']<=-2,'quantity'],df.loc[df['pdsi']<=-2,'price'],color='brown')\n",
    "plt.scatter(df.loc[(df['pdsi']>-2) & (df['pdsi']<2),'quantity'],df.loc[(df['pdsi']>-2) & (df['pdsi']<2),'price'],color='black')\n",
    "for i, r in df.iterrows():\n",
    "    plt.text(r['quantity'],r['price']+0.05,int(r['year']),color='k',ha='left',va='bottom',fontsize=12)\n",
    "plt.xlabel('Quantity (bu)')\n",
    "plt.ylabel('Price ($/bu)')\n",
    "plt.show()"
   ]
  },
  {
   "cell_type": "markdown",
   "metadata": {
    "collapsed": true
   },
   "source": [
    "The students don't have to generate another scatterplot like the one above, but should note the following. Compared to normal conditions (black dots), for wet conditions (green dots), the equiibrium quantity tends to be higher and the equilibrium price tends to be lower (i.e., tends to a more favorable supply curve). For dry conditions (brown dot), the equilibrium quantity is lower and the equilibrium price is higher (i.e., tends toward less favorable supply curve), but there is only one year of data to base this inference on."
   ]
  },
  {
   "cell_type": "markdown",
   "metadata": {},
   "source": [
    "6) Predict the effects of a very dry year (2 pts)"
   ]
  },
  {
   "cell_type": "markdown",
   "metadata": {},
   "source": [
    "Based on 2012, a very dry year would likely have lower equilibrium quantity and a higher equilibrium price.\n",
    "\n",
    "But probably would not be comfortable making a precise prediction, because there's only one datapoint to base this prediction on, and would be extrapolating beyond the range of the PDSIs given.\n",
    "\n",
    "Would want to have more dry years, preferably very dry years, to compare to in order to arrive at a more confident prediction."
   ]
  },
  {
   "cell_type": "code",
   "execution_count": null,
   "metadata": {},
   "outputs": [],
   "source": []
  }
 ],
 "metadata": {
  "kernelspec": {
   "display_name": "Python 3",
   "language": "python",
   "name": "python3"
  },
  "language_info": {
   "codemirror_mode": {
    "name": "ipython",
    "version": 3
   },
   "file_extension": ".py",
   "mimetype": "text/x-python",
   "name": "python",
   "nbconvert_exporter": "python",
   "pygments_lexer": "ipython3",
   "version": "3.8.5"
  }
 },
 "nbformat": 4,
 "nbformat_minor": 1
}
